{
 "cells": [
  {
   "cell_type": "markdown",
   "metadata": {
    "pycharm": {
     "name": "#%% md\n"
    }
   },
   "source": [
    "<a href=\"https://colab.research.google.com/github/johsieders/fttai/blob/main/src/cola/colaB.ipynb\" target=\"_parent\"><img src=\"https://colab.research.google.com/assets/colab-badge.svg\" alt=\"Open In Colab\"/></a>"
   ]
  },
  {
   "cell_type": "code",
   "execution_count": null,
   "metadata": {
    "pycharm": {
     "name": "#%%\n"
    }
   },
   "outputs": [],
   "source": [
    "# from https://mccormickml.com/2019/07/22/BERT-fine-tuning\n",
    "# The Corpus of Linguistic Acceptability (CoLA)\n",
    "\n",
    "# Johannes Siedersleben\n",
    "# QAware GmbH, Munich\n",
    "# 28.2.2021"
   ]
  },
  {
   "cell_type": "code",
   "execution_count": 2,
   "metadata": {
    "pycharm": {
     "name": "#%%\n"
    }
   },
   "outputs": [],
   "source": [
    "# uncomment this if import fails\n",
    "# !pip install transformers\n",
    "\n",
    "# Python imports\n",
    "import random\n",
    "import pickle\n",
    "from collections.abc import Callable\n",
    "from time import perf_counter\n",
    "\n",
    "# utilities for download and file import\n",
    "import pandas as pd\n",
    "\n",
    "# neural metworks support: torch, Hugging Face transformers\n",
    "import torch\n",
    "import torch.nn as nn\n",
    "from torch import Tensor\n",
    "from torch.nn.utils import clip_grad_norm_\n",
    "from torch.utils.data import TensorDataset, random_split, DataLoader, RandomSampler, SequentialSampler\n",
    "from transformers import BertTokenizer, BertModel, AdamW\n",
    "\n",
    "# local imports\n",
    "from download import download\n",
    "from logger import Logger\n",
    "from showResults import showConfusionMatrix, showMetrics, showProgress"
   ]
  },
  {
   "cell_type": "code",
   "execution_count": null,
   "metadata": {
    "pycharm": {
     "name": "#%%\n"
    }
   },
   "outputs": [],
   "source": [
    "class Learner(object):\n",
    "    def __init__(self, module: nn.Module,\n",
    "                 optimizer: torch.optim.Optimizer,\n",
    "                 loss_fct: Callable,\n",
    "                 device: torch.device):\n",
    "        self.module = module\n",
    "        self.optimizer = optimizer\n",
    "        self.loss_fct = loss_fct\n",
    "        self.device = device\n",
    "\n",
    "    def train(self, dataloader: DataLoader, logger: Logger) -> None:\n",
    "        \"\"\"\n",
    "        @param dataloader: a dataloader with input_ids at 0, labels at 1\n",
    "        @param logger: a logger\n",
    "        @return: None\n",
    "        This is one epoch, the essential loop of artificial intelligence.\n",
    "        It runs over all training sentences, one minibatch at a time.\n",
    "        One loop takes about 2 seconds on a i7 cpu!\n",
    "        \"\"\"\n",
    "        self.module.train()\n",
    "\n",
    "        for batch in dataloader:\n",
    "            vectors, labels = batch\n",
    "            labels = labels.view(-1, 1)\n",
    "            logits = self.module(vectors)\n",
    "            loss = self.loss_fct(logits, labels)\n",
    "            logger.log(loss.item())\n",
    "            loss.backward()  # compute gradient\n",
    "            clip_grad_norm_(module.parameters(), 1.0)  # normalize gradient\n",
    "            self.optimizer.step()  # do one optimization step\n",
    "            self.optimizer.zero_grad()  # reset gradient\n",
    "\n",
    "    def predict(self, dataloader: DataLoader) -> tuple:\n",
    "        \"\"\"\n",
    "        @param dataloader: a dataloader with input_ids at 0, labels at 2\n",
    "        @return: tuple of (label, prediction), two tensors\n",
    "        \"\"\"\n",
    "        self.module.eval()\n",
    "        targets = torch.tensor((), dtype=torch.int, device=self.device)\n",
    "        predictions = torch.tensor((), dtype=torch.int, device=self.device)\n",
    "\n",
    "        for batch in dataloader:\n",
    "            vectors, labels = batch\n",
    "            with torch.no_grad():\n",
    "                logits = self.module(vectors)\n",
    "            preds = torch.argmax(logits, dim=1)\n",
    "            targets = torch.cat((targets, labels))    # collect targets\n",
    "            predictions = torch.cat((predictions, preds))  # collect predictions\n",
    "\n",
    "        return targets, predictions\n",
    "\n",
    "    def fit(self, dataloader: DataLoader, n_epochs: int) -> list:\n",
    "        \"\"\"\n",
    "        @param dataloader: a dataloader with input_ids at 0, attention_mask at 1, labels at 2\n",
    "        @param n_epochs: number of epochs\n",
    "        @return: the protocol\n",
    "        \"\"\"\n",
    "        logger = Logger()\n",
    "        for i in range(n_epochs):\n",
    "            logger.log(f'epoch {i}')\n",
    "            self.train(dataloader, logger)\n",
    "        return logger.getProtocol()"
   ]
  },
  {
   "cell_type": "code",
   "execution_count": null,
   "metadata": {
    "pycharm": {
     "name": "#%%\n"
    }
   },
   "outputs": [],
   "source": [
    "def getDevice(cuda_desired: bool) -> torch.device:\n",
    "    \"\"\"\n",
    "    @param cuda_desired: True if cuda desired\n",
    "    @return: cuda if desired and available, cpu otherwise\n",
    "    \"\"\"\n",
    "    return torch.device('cuda') if cuda_desired and torch.cuda.is_available() \\\n",
    "        else torch.device('cpu')"
   ]
  },
  {
   "cell_type": "code",
   "execution_count": null,
   "metadata": {
    "pycharm": {
     "name": "#%%\n"
    }
   },
   "outputs": [],
   "source": [
    "def readData(filename: str,\n",
    "                        n_sentences: int,\n",
    "                        col_sentence: int,\n",
    "                        col_label: int,\n",
    "                        delimiter: str = '\\t') -> tuple:\n",
    "    \"\"\"\n",
    "    @param filename: file to be read from\n",
    "    @param n_sentences: number of sentences to be read\n",
    "    @param delimiter: a delimiter\n",
    "    @param col_sentence: index of column of sentences\n",
    "    @param col_label: index of column of labels\n",
    "    @return: a tuple containing a list of sentences and a list of labels\n",
    "    \"\"\"\n",
    "    df = pd.read_csv(filename, delimiter=delimiter, nrows=n_sentences, header=None)\n",
    "    return df[col_sentence].values.tolist(), df[col_label].values.tolist()"
   ]
  },
  {
   "cell_type": "code",
   "execution_count": null,
   "metadata": {
    "pycharm": {
     "name": "#%%\n"
    }
   },
   "outputs": [],
   "source": [
    "def getTokenizer(device: torch.device) -> Callable:\n",
    "\n",
    "    bert_model = BertModel.from_pretrained(\n",
    "        \"bert-base-uncased\",  # Use the 12-layer BERT module, with an uncased vocab.\n",
    "        output_hidden_states=True,  # return hidden-states.\n",
    "    )\n",
    "    if device == torch.device('cpu'):\n",
    "        bert_model.cpu()\n",
    "    else:\n",
    "        bert_model.cuda()\n",
    "\n",
    "    bert_model.eval()\n",
    "\n",
    "    bert_tokenizer = BertTokenizer.from_pretrained('bert-base-uncased', do_lower_case=True)\n",
    "\n",
    "    def tokenize(sentences: list, max_length: int) -> Tensor:\n",
    "        vectors = []\n",
    "\n",
    "        for s in sentences:\n",
    "            dict = bert_tokenizer(s,\n",
    "                             add_special_tokens=True,  # Add '[CLS]' and '[SEP]'\n",
    "                             truncation=True,\n",
    "                             max_length=max_length,\n",
    "                             pad_to_max_length=True,\n",
    "                             return_attention_mask=True,\n",
    "                            )\n",
    "\n",
    "            toks = dict['input_ids']\n",
    "            attn = dict['attention_mask']\n",
    "            token_ids = torch.tensor(toks, device=device).view((1, -1))\n",
    "            attn_mask = torch.tensor(attn, device=device).view((1, -1))\n",
    "\n",
    "            with torch.no_grad():\n",
    "                output = bert_model(token_ids, attn_mask)\n",
    "\n",
    "            hidden_states = output[2]\n",
    "            token_vectors = hidden_states[-2][0]  # shape = (#tokens, 768)\n",
    "            # result[i] = average token_vecs[i, j], j = 0 .. 767\n",
    "            vector = torch.mean(token_vectors, dim=0)  # shape = (768)\n",
    "            vectors.append(vector)\n",
    "\n",
    "        vectors = torch.cat(vectors).view(len(sentences), -1)\n",
    "        return vectors\n",
    "\n",
    "    return tokenize\n"
   ]
  },
  {
   "cell_type": "code",
   "execution_count": null,
   "outputs": [],
   "source": [
    "def getDataloader(token_ids: Tensor,\n",
    "                  labels: Tensor,\n",
    "                  split_factor: float,\n",
    "                  batch_size: int) -> tuple:\n",
    "    \"\"\"\n",
    "    @param token_ids: token_ids, plain Python list, (n_sentences x max_length)\n",
    "    @param labels: labels, plain Python list (len = n_sentences)\n",
    "    @param split_factor: share of training sentences\n",
    "    @param batch_size: size of minibatch\n",
    "    @return: tuple of two dataloaders, one for training and one for test\n",
    "\n",
    "    Dataloaders return on each call a list of k 3-tupels (token_ids, attention_mask, label);\n",
    "    with k = batch_size. All returned elements are torch.tensors on the requested device\n",
    "    \"\"\"\n",
    "\n",
    "    dataset = TensorDataset(token_ids, labels)\n",
    "    train_size = int(split_factor * len(dataset))\n",
    "    test_size = len(dataset) - train_size\n",
    "    train_dataset, test_dataset = random_split(dataset, [train_size, test_size])\n",
    "\n",
    "    train_dataloader = DataLoader(\n",
    "        train_dataset,\n",
    "        sampler=RandomSampler(train_dataset),\n",
    "        batch_size=batch_size\n",
    "    )\n",
    "\n",
    "    test_dataloader = DataLoader(\n",
    "        test_dataset,\n",
    "        sampler=SequentialSampler(test_dataset),\n",
    "        batch_size=batch_size\n",
    "    )\n",
    "\n",
    "    return train_dataloader, test_dataloader"
   ],
   "metadata": {
    "collapsed": false,
    "pycharm": {
     "name": "#%%\n"
    }
   }
  },
  {
   "cell_type": "code",
   "execution_count": null,
   "outputs": [],
   "source": [
    "def getModule(device: torch.device) -> nn.Module:\n",
    "    module = nn.Linear(768, 1)\n",
    "    if device == torch.device('cpu'):\n",
    "        module.cpu()\n",
    "    else:\n",
    "        module.cuda()\n",
    "    return module"
   ],
   "metadata": {
    "collapsed": false,
    "pycharm": {
     "name": "#%%\n"
    }
   }
  },
  {
   "cell_type": "code",
   "execution_count": null,
   "outputs": [],
   "source": [
    "def getOptimizer(module: nn.Module,\n",
    "                 lr: float,\n",
    "                 eps: float) -> torch.optim.Optimizer:\n",
    "    \"\"\"\n",
    "    @param module: a module\n",
    "    @param lr: learning rate\n",
    "    @param eps: stop criterion\n",
    "    @return: the Adam optimizer (any other choice is valid)\n",
    "    \"\"\"\n",
    "    return AdamW(module.parameters(), lr=lr, eps=eps)"
   ],
   "metadata": {
    "collapsed": false,
    "pycharm": {
     "name": "#%%\n"
    }
   }
  },
  {
   "cell_type": "code",
   "execution_count": null,
   "outputs": [],
   "source": [
    "def getLossFunction() -> Callable:\n",
    "    \"\"\"\n",
    "    @return: binary cross entropy loss (or any other loss function)\n",
    "    \"\"\"\n",
    "    return nn.BCEWithLogitsLoss()"
   ],
   "metadata": {
    "collapsed": false,
    "pycharm": {
     "name": "#%%\n"
    }
   }
  },
  {
   "cell_type": "markdown",
   "source": [
    "### Define the configuration and put it in a dictionary"
   ],
   "metadata": {
    "collapsed": false,
    "pycharm": {
     "name": "#%% md\n"
    }
   }
  },
  {
   "cell_type": "code",
   "execution_count": null,
   "metadata": {
    "pycharm": {
     "name": "#%%\n"
    }
   },
   "outputs": [],
   "source": [
    "seed = 42\n",
    "batch_size = 8\n",
    "n_sentences = 100\n",
    "max_length = 64\n",
    "split_factor = 0.8\n",
    "cuda_desired = False\n",
    "lr = 3e-5\n",
    "eps = 1e-8\n",
    "n_epochs = 4\n",
    "\n",
    "cfg = {'seed': seed,\n",
    "   'batch_size': batch_size,\n",
    "   'n_sentences': n_sentences,      # number of sentences to read\n",
    "   'max_length': max_length,        # max length of sentence (guess or find out)\n",
    "   'split_factor': split_factor,    # share of training sentences\n",
    "   'cuda_desired': cuda_desired,    # True if cuda desired\n",
    "   'lr': lr,                        # learning rate of optimizer\n",
    "   'eps': eps,                      # stop criterion of optimizer\n",
    "   'n_epochs': n_epochs}"
   ]
  },
  {
   "cell_type": "markdown",
   "source": [
    "### Set the seeds and determine device"
   ],
   "metadata": {
    "collapsed": false,
    "pycharm": {
     "name": "#%% md\n"
    }
   }
  },
  {
   "cell_type": "code",
   "execution_count": null,
   "outputs": [],
   "source": [
    "random.seed(seed)\n",
    "torch.manual_seed(seed)\n",
    "torch.cuda.manual_seed_all(seed)\n",
    "device = getDevice(cuda_desired)"
   ],
   "metadata": {
    "collapsed": false,
    "pycharm": {
     "name": "#%%\n"
    }
   }
  },
  {
   "cell_type": "markdown",
   "metadata": {
    "pycharm": {
     "name": "#%% md\n"
    }
   },
   "source": [
    "### Download and unzip"
   ]
  },
  {
   "cell_type": "code",
   "execution_count": null,
   "outputs": [],
   "source": [
    "url = 'https://nyu-mll.github.io/CoLA/cola_public_1.1.zip'\n",
    "zipped_file = 'cola_public_1.1.zip'\n",
    "zipped_dir = './cola_public_1.1/'\n",
    "unzipped_file = './cola_public/raw/in_domain_train.tsv'\n",
    "download(url, zipped_file, zipped_dir, unzipped_file)"
   ],
   "metadata": {
    "collapsed": false,
    "pycharm": {
     "name": "#%%\n"
    }
   }
  },
  {
   "cell_type": "markdown",
   "source": [
    "### Read the data"
   ],
   "metadata": {
    "collapsed": false,
    "pycharm": {
     "name": "#%% md\n"
    }
   }
  },
  {
   "cell_type": "code",
   "execution_count": null,
   "outputs": [],
   "source": [
    "col_sentence = 3  # index of column of sentences\n",
    "col_label = 1  # index of column of labels\n",
    "sentences, labels = readData(unzipped_file, n_sentences, col_sentence, col_label)"
   ],
   "metadata": {
    "collapsed": false,
    "pycharm": {
     "name": "#%%\n"
    }
   }
  },
  {
   "cell_type": "markdown",
   "source": [
    "### Compute token_ids"
   ],
   "metadata": {
    "collapsed": false,
    "pycharm": {
     "name": "#%% md\n"
    }
   }
  },
  {
   "cell_type": "code",
   "execution_count": null,
   "outputs": [],
   "source": [
    "\n",
    "t0 = perf_counter()\n",
    "tokenizer = getTokenizer(device)\n",
    "token_ids = tokenizer(sentences, max_length)\n",
    "labels = torch.tensor(labels, dtype=torch.float32, device=device)\n",
    "\n",
    "t1 = perf_counter()\n",
    "print(f'elapsed time for tokenizing: {t1 - t0:.4f}')"
   ],
   "metadata": {
    "collapsed": false,
    "pycharm": {
     "name": "#%%\n"
    }
   }
  },
  {
   "cell_type": "markdown",
   "metadata": {
    "pycharm": {
     "name": "#%% md\n"
    }
   },
   "source": [
    "### Define the algorithm"
   ]
  },
  {
   "cell_type": "code",
   "execution_count": null,
   "outputs": [],
   "source": [
    "train_dataloader, test_dataloader = getDataloader(token_ids, labels, split_factor, batch_size)\n",
    "module = getModule(device)     # Linear(768, 1)\n",
    "optimizer = getOptimizer(module, lr, eps)\n",
    "loss_fct = getLossFunction()\n",
    "learner = Learner(module, optimizer, loss_fct, device)"
   ],
   "metadata": {
    "collapsed": false,
    "pycharm": {
     "name": "#%%\n"
    }
   }
  },
  {
   "cell_type": "markdown",
   "metadata": {
    "pycharm": {
     "name": "#%% md\n"
    }
   },
   "source": [
    "### Get going"
   ]
  },
  {
   "cell_type": "code",
   "execution_count": null,
   "outputs": [],
   "source": [
    "t0 = perf_counter()\n",
    "protocol = learner.fit(train_dataloader, n_epochs)\n",
    "t1 = perf_counter()\n",
    "print(f'\\nelapsed time for training: {t1 - t0:.4f}')"
   ],
   "metadata": {
    "collapsed": false,
    "pycharm": {
     "name": "#%%\n"
    }
   }
  },
  {
   "cell_type": "markdown",
   "source": [
    "### Make predictions on train and test data"
   ],
   "metadata": {
    "collapsed": false,
    "pycharm": {
     "name": "#%% md\n"
    }
   }
  },
  {
   "cell_type": "code",
   "execution_count": null,
   "outputs": [],
   "source": [
    "train_labels, train_predictions = learner.predict(train_dataloader)\n",
    "test_labels, test_predictions = learner.predict(test_dataloader)"
   ],
   "metadata": {
    "collapsed": false,
    "pycharm": {
     "name": "#%%\n"
    }
   }
  },
  {
   "cell_type": "markdown",
   "source": [
    "### Save results"
   ],
   "metadata": {
    "collapsed": false,
    "pycharm": {
     "name": "#%% md\n"
    }
   }
  },
  {
   "cell_type": "code",
   "execution_count": null,
   "outputs": [],
   "source": [
    "log_object = (cfg,\n",
    "              protocol,\n",
    "              train_labels, train_predictions,\n",
    "              test_labels, test_predictions)\n",
    "\n",
    "log_file = 'log_000.pickle'\n",
    "with open(log_file, 'wb') as log:\n",
    "    pickle.dump(log_object, log)"
   ],
   "metadata": {
    "collapsed": false,
    "pycharm": {
     "name": "#%%\n"
    }
   }
  },
  {
   "cell_type": "markdown",
   "metadata": {
    "pycharm": {
     "name": "#%% md\n"
    }
   },
   "source": [
    "### Show progress"
   ]
  },
  {
   "cell_type": "code",
   "execution_count": 3,
   "outputs": [
    {
     "name": "stdout",
     "output_type": "stream",
     "text": [
      "\n",
      "elapsed time = 0.0458\n",
      "\n",
      "total number of train labels:          80\n",
      "total number of correct train labels:  59\n"
     ]
    },
    {
     "data": {
      "text/plain": "<Figure size 432x288 with 1 Axes>",
      "image/png": "[encoded data removed]"
     },
     "metadata": {
      "needs_background": "light"
     },
     "output_type": "display_data"
    }
   ],
   "source": [
    "log_file = 'log_000.pickle'\n",
    "with open(log_file, 'rb') as log:\n",
    "    log_object = pickle.load(log)\n",
    "\n",
    "cfg, protocol, \\\n",
    "train_labels, train_predictions, \\\n",
    "test_labels, test_predictions = log_object\n",
    "\n",
    "elapsed_time = protocol[-1][0] - protocol[0][0]\n",
    "print(f'\\nelapsed time = {elapsed_time:.4f}')\n",
    "\n",
    "# show the outcome\n",
    "print(f\"\\n{'total number of train labels:':38} {len(train_labels)}\\n\"\n",
    "      f\"{'total number of correct train labels:':38} {len(train_labels[train_labels == 1])}\")\n",
    "\n",
    "showProgress(protocol)"
   ],
   "metadata": {
    "collapsed": false,
    "pycharm": {
     "name": "#%%\n"
    }
   }
  },
  {
   "cell_type": "markdown",
   "source": [
    "### Show metrics and confusion matrices"
   ],
   "metadata": {
    "collapsed": false
   }
  },
  {
   "cell_type": "code",
   "execution_count": null,
   "metadata": {
    "pycharm": {
     "name": "#%%\n"
    }
   },
   "outputs": [],
   "source": [
    "print('\\nresult on train data')\n",
    "showMetrics(train_labels, train_predictions)\n",
    "print('\\nresult on test data')\n",
    "showMetrics(test_labels, test_predictions)\n",
    "\n",
    "cat_names = ['incorrect', 'correct']\n",
    "print('\\nresult on test data')\n",
    "showConfusionMatrix(train_labels, train_predictions, cat_names)\n",
    "print('\\nresult on test data')\n",
    "showConfusionMatrix(test_labels, test_predictions, cat_names)"
   ]
  }
 ],
 "metadata": {
  "colab": {
   "name": "cola.ipynb",
   "provenance": []
  },
  "kernelspec": {
   "display_name": "Python 3",
   "language": "python",
   "name": "python3"
  },
  "language_info": {
   "codemirror_mode": {
    "name": "ipython",
    "version": 3
   },
   "file_extension": ".py",
   "mimetype": "text/x-python",
   "name": "python",
   "nbconvert_exporter": "python",
   "pygments_lexer": "ipython3",
   "version": "3.8.5"
  }
 },
 "nbformat": 4,
 "nbformat_minor": 1
}