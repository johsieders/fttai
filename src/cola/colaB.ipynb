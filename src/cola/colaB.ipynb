{
 "nbformat": 4,
 "nbformat_minor": 0,
 "metadata": {
  "kernelspec": {
   "display_name": "Python 3",
   "language": "python",
   "name": "python3"
  },
  "language_info": {
   "codemirror_mode": {
    "name": "ipython",
    "version": 3
   },
   "file_extension": ".py",
   "mimetype": "text/x-python",
   "name": "python",
   "nbconvert_exporter": "python",
   "pygments_lexer": "ipython3",
   "version": "3.8.5"
  },
  "colab": {
   "name": "cola.ipynb",
   "provenance": []
  }
 },
 "cells": [
  {
   "cell_type": "markdown",
   "source": [
    "<a href=\"https://colab.research.google.com/github/johsieders/fttai/blob/main/src/cola/colaB.ipynb\" target=\"_parent\"><img src=\"https://colab.research.google.com/assets/colab-badge.svg\" alt=\"Open In Colab\"/></a>"
   ],
   "metadata": {
    "collapsed": false,
    "pycharm": {
     "name": "#%% md\n"
    }
   }
  },
  {
   "cell_type": "code",
   "execution_count": null,
   "outputs": [],
   "source": [
    "\n",
    "# from https://mccormickml.com/2019/07/22/BERT-fine-tuning\n",
    "# The Corpus of Linguistic Acceptability (CoLA)\n",
    "\n",
    "# Johannes Siedersleben\n",
    "# QAware GmbH, Munich\n",
    "# 10.2.2021"
   ],
   "metadata": {
    "collapsed": false,
    "pycharm": {
     "name": "#%%\n"
    }
   }
  },
  {
   "cell_type": "code",
   "execution_count": null,
   "outputs": [],
   "source": [
    "# uncomment this if import fails\n",
    "# !pip install wget\n",
    "\n",
    "import os\n",
    "import zipfile\n",
    "import wget"
   ],
   "metadata": {
    "collapsed": false,
    "pycharm": {
     "name": "#%%\n"
    }
   }
  },
  {
   "cell_type": "code",
   "execution_count": null,
   "outputs": [],
   "source": [
    "# download and unzip raw data\n",
    "\n",
    "url = 'https://nyu-mll.github.io/CoLA/cola_public_1.1.zip'\n",
    "\n",
    "zipped_file = 'cola_public_1.1.zip'\n",
    "zipped_dir = './cola_public_1.1/'\n",
    "unzipped_file = './cola_public/raw/in_domain_train.tsv'\n",
    "\n",
    "if not os.path.exists(zipped_file):\n",
    "    wget.download(url, zipped_file)\n",
    "print('download successful')\n",
    "\n",
    "if not os.path.exists(zipped_dir):\n",
    "    zip = zipfile.ZipFile(zipped_file)\n",
    "    zip.extractall()\n",
    "\n",
    "print('unzipped file now at ' + unzipped_file)"
   ],
   "metadata": {
    "collapsed": false,
    "pycharm": {
     "name": "#%%\n"
    }
   }
  },
  {
   "cell_type": "code",
   "execution_count": null,
   "outputs": [],
   "source": [
    "from torch import Tensor\n",
    "from sklearn.metrics import accuracy_score, precision_score, recall_score, f1_score, confusion_matrix\n",
    "\n",
    "# utilities for display\n",
    "import seaborn as sns\n",
    "import matplotlib.pyplot as plt\n",
    "\n",
    "\n",
    "def plot(history):\n",
    "    plt.plot(history, label='training loss')\n",
    "    plt.legend(loc='center left', bbox_to_anchor=(1, 0.5))\n",
    "    plt.ylabel('loss')\n",
    "    plt.xlabel('iterations')\n",
    "\n",
    "\n",
    "def showMetrics(labels, predictions: Tensor) -> None:\n",
    "    \"\"\"\"\n",
    "    @param labels: tensor of labels\n",
    "    @param predictions: tensor of prediction\n",
    "    @return: None\n",
    "    This functions prints accuracy, precision, recall and f1\n",
    "    \"\"\"\n",
    "    accuracy = accuracy_score(labels, predictions)\n",
    "    precision = precision_score(labels, predictions)\n",
    "    recall = recall_score(labels, predictions)\n",
    "    f1 = f1_score(labels, predictions)\n",
    "\n",
    "    print(f'\\naccuracy  = {accuracy:.3f}\\n'\n",
    "          f'precision = {precision:.3f}\\n'\n",
    "          f'recall    = {recall:.3f}\\n'\n",
    "          f'f1        = {f1:.3f}')\n",
    "\n",
    "\n",
    "def showConfusionMatrix(labels, predictions: Tensor, names: list) -> None:\n",
    "    \"\"\"\n",
    "    @param labels: tensor of labels\n",
    "    @param predictions: tensor of prediction\n",
    "    @param names: names of categories, e.g. ['correct', 'incorrect']\n",
    "    @return: None\n",
    "    The confusion matrix is a K x K matrix with K = number of categories\n",
    "    \"\"\"\n",
    "\n",
    "    cm = confusion_matrix(labels, predictions)\n",
    "    vmax = cm.max()   # number of categories\n",
    "    sns.heatmap(cm.T, square=True, annot=True, fmt='d', cbar=True,\n",
    "                xticklabels=names, yticklabels=names, vmin=0, vmax=vmax, cmap=\"YlGnBu\")\n",
    "    plt.xlabel = ('true label')\n",
    "    plt.ylabel = ('predicted label')\n",
    "    plt.show()"
   ],
   "metadata": {
    "collapsed": false,
    "pycharm": {
     "name": "#%%\n"
    }
   }
  },
  {
   "cell_type": "code",
   "execution_count": null,
   "outputs": [],
   "source": [
    "# uncomment this if import fails\n",
    "# !pip install transformers\n",
    "\n",
    "# Python imports\n",
    "import random\n",
    "import pickle\n",
    "from collections.abc import Callable\n",
    "from time import perf_counter\n",
    "\n",
    "# utilities for download and file import\n",
    "import pandas as pd\n",
    "\n",
    "# neural metworks support: torch, Huggingface transformers\n",
    "import torch\n",
    "import torch.nn as nn\n",
    "from torch.nn.utils import clip_grad_norm_\n",
    "from torch.utils.data import TensorDataset, random_split, DataLoader, RandomSampler, SequentialSampler\n",
    "from transformers import BertTokenizer, BertForSequenceClassification, BertModel, AdamW\n"
   ],
   "metadata": {
    "collapsed": false,
    "pycharm": {
     "name": "#%%\n"
    }
   }
  },
  {
   "cell_type": "code",
   "execution_count": null,
   "outputs": [],
   "source": [
    "class Logger(object):\n",
    "    def __init__(self):\n",
    "        self.protocol = []\n",
    "        self.counter = 0\n",
    "        self.char_counter = 0\n",
    "\n",
    "    def log(self, input: any) -> None:\n",
    "        print(self.counter, end='')  # I am working\n",
    "        self.counter = (self.counter + 1) % 10\n",
    "        self.char_counter =(self.char_counter + 1) % 80\n",
    "        if self.char_counter == 0:\n",
    "          print()\n",
    "        self.protocol.append((perf_counter(), input))\n",
    "\n",
    "    def getProtocol(self) -> list:\n",
    "        return self.protocol"
   ],
   "metadata": {
    "collapsed": false,
    "pycharm": {
     "name": "#%%\n"
    }
   }
  },
  {
   "cell_type": "code",
   "execution_count": null,
   "outputs": [],
   "source": [
    "class Learner(object):\n",
    "    def __init__(self, module: nn.Module,\n",
    "                 optimizer: torch.optim.Optimizer,\n",
    "                 loss_fct: Callable,\n",
    "                 device: torch.device):\n",
    "        self.module = module\n",
    "        self.optimizer = optimizer\n",
    "        self.loss_fct = loss_fct\n",
    "        self.device = device\n",
    "\n",
    "    def train(self, dataloader: DataLoader, logger: Logger) -> None:\n",
    "        \"\"\"\n",
    "        @param dataloader: a dataloader with input_ids at 0, labels at 1\n",
    "        @param logger: a logger\n",
    "        @return: None\n",
    "        This is one epoch, the essential loop of artificial intelligence.\n",
    "        It runs over all training sentences, one minibatch at a time.\n",
    "        One loop takes about 2 seconds on a i7 cpu!\n",
    "        \"\"\"\n",
    "        self.module.train()\n",
    "\n",
    "        for batch in dataloader:\n",
    "            vectors, labels = batch\n",
    "            labels = labels.view(-1, 1)\n",
    "            logits = self.module(vectors)\n",
    "            loss = self.loss_fct(logits, labels)\n",
    "            logger.log(loss.item())\n",
    "            loss.backward()  # compute gradient\n",
    "            clip_grad_norm_(module.parameters(), 1.0)  # normalize gradient\n",
    "            self.optimizer.step()  # do one optimization step\n",
    "            self.optimizer.zero_grad()  # reset gradient\n",
    "\n",
    "    def predict(self, dataloader: DataLoader) -> tuple:\n",
    "        \"\"\"\n",
    "        @param dataloader: a dataloader with input_ids at 0, labels at 2\n",
    "        @return: tuple of (label, prediction), two tensors\n",
    "        \"\"\"\n",
    "        self.module.eval()\n",
    "        targets = torch.tensor((), dtype=torch.int, device=self.device)\n",
    "        predictions = torch.tensor((), dtype=torch.int, device=self.device)\n",
    "\n",
    "        for batch in dataloader:\n",
    "            vectors, labels = batch\n",
    "            with torch.no_grad():\n",
    "                logits = self.module(vectors)\n",
    "            preds = torch.argmax(logits, dim=1)\n",
    "            targets = torch.cat((targets, labels))    # collect targets\n",
    "            predictions = torch.cat((predictions, preds))  # collect predictions\n",
    "\n",
    "        return targets, predictions\n",
    "\n",
    "    def fit(self, dataloader: DataLoader, n_epochs: int) -> list:\n",
    "        \"\"\"\n",
    "        @param dataloader: a dataloader with input_ids at 0, attention_mask at 1, labels at 2\n",
    "        @param n_epochs: number of epochs\n",
    "        @return: the protocol\n",
    "        \"\"\"\n",
    "        logger = Logger()\n",
    "        for i in range(n_epochs):\n",
    "            logger.log(f'epoch {i}')\n",
    "            self.train(dataloader, logger)\n",
    "        return logger.getProtocol()"
   ],
   "metadata": {
    "collapsed": false,
    "pycharm": {
     "name": "#%%\n"
    }
   }
  },
  {
   "cell_type": "code",
   "execution_count": null,
   "outputs": [],
   "source": [
    "def getDevice(cuda_desired: bool) -> torch.device:\n",
    "    \"\"\"\n",
    "    @param cuda_desired: True if cuda desired\n",
    "    @return: cuda if desired and available, cpu otherwise\n",
    "    \"\"\"\n",
    "    return torch.device('cuda') if cuda_desired and torch.cuda.is_available() \\\n",
    "        else torch.device('cpu')"
   ],
   "metadata": {
    "collapsed": false,
    "pycharm": {
     "name": "#%%\n"
    }
   }
  },
  {
   "cell_type": "code",
   "execution_count": null,
   "outputs": [],
   "source": [
    "def readSentencesLabels(filename: str,\n",
    "                        n_sentences: int,\n",
    "                        col_sentence: int,\n",
    "                        col_label: int,\n",
    "                        delimiter: str = '\\t') -> tuple:\n",
    "    \"\"\"\n",
    "    @param filename: file to be read from\n",
    "    @param n_sentences: number of sentences to be read\n",
    "    @param delimiter: a delimiter\n",
    "    @param col_sentence: index of column of sentences\n",
    "    @param col_label: index of column of labels\n",
    "    @return: a tuple containing a list of sentences and a list of labels\n",
    "    \"\"\"\n",
    "    df = pd.read_csv(filename, delimiter=delimiter, nrows=n_sentences, header=None)\n",
    "    return df[col_sentence].values.tolist(), df[col_label].values.tolist()"
   ],
   "metadata": {
    "collapsed": false,
    "pycharm": {
     "name": "#%%\n"
    }
   }
  },
  {
   "cell_type": "code",
   "execution_count": null,
   "outputs": [],
   "source": [
    "def tokenize(sentences: list,\n",
    "             tokenizer: BertTokenizer,\n",
    "             model: BertModel,\n",
    "             device: torch.device,\n",
    "             max_length: int) -> Tensor:\n",
    "    \"\"\"\n",
    "    @param sentences: list of sentences\n",
    "    @param tokenizer: a tokenizer\n",
    "    @param max_length: sentences to be padded to\n",
    "    @return: list of vectors\n",
    "    Encoding proceeds as follows:\n",
    "    (1) Tokenize the sentence.\n",
    "    (2) Prepend the `[CLS]` token to the start.\n",
    "    (3) Append the `[SEP]` token to the end.\n",
    "    (4) Map tokens to their IDs.\n",
    "    (5) Pad or truncate the sentence to `max_length`\n",
    "    (6) Create attention mask for [PAD] tokens.\n",
    "\n",
    "    Note: pad_to_max_length is deprecated, no way to get around.\n",
    "    \"\"\"\n",
    "    vectors = []\n",
    "\n",
    "    for s in sentences:\n",
    "        dict = tokenizer(s,\n",
    "                         add_special_tokens=True,  # Add '[CLS]' and '[SEP]'\n",
    "                         truncation=True,\n",
    "                         max_length=max_length,\n",
    "                         pad_to_max_length=True,\n",
    "                         return_attention_mask=True,\n",
    "                        )\n",
    "        # token_ids.append(encoded_dict['input_ids'])\n",
    "        # attention_masks.append(encoded_dict['attention_mask'])\n",
    "        # third entry (token_type_ids) not needed\n",
    "\n",
    "        toks = dict['input_ids']\n",
    "        attn = dict['attention_mask']\n",
    "        token_ids = torch.tensor(toks, device=device).view((1, -1))\n",
    "        attn_mask = torch.tensor(attn, device=device).view((1, -1))\n",
    "\n",
    "        with torch.no_grad():\n",
    "            output = model(token_ids, attn_mask)\n",
    "\n",
    "        hidden_states = output[2]\n",
    "        token_vectors = hidden_states[-2][0]  # shape = (#tokens, 768)\n",
    "        # result[i] = average token_vecs[i, j], j = 0 .. 767\n",
    "        vector = torch.mean(token_vectors, dim=0)  # shape = (768)\n",
    "        vectors.append(vector)\n",
    "\n",
    "    vectors = torch.cat(vectors).view(len(sentences), -1)\n",
    "    return vectors"
   ],
   "metadata": {
    "collapsed": false,
    "pycharm": {
     "name": "#%%\n"
    }
   }
  },
  {
   "cell_type": "code",
   "execution_count": null,
   "outputs": [],
   "source": [
    "def getDataloader(token_ids: Tensor,\n",
    "                  labels: Tensor,\n",
    "                  split_factor: float,\n",
    "                  batch_size: int,\n",
    "                  device: torch.device) -> tuple:\n",
    "    \"\"\"\n",
    "    @param token_ids: token_ids, plain Python list, (n_sentences x max_length)\n",
    "    @param labels: labels, plain Python list (len = n_sentences)\n",
    "    @param split_factor: share of training sentences\n",
    "    @param batch_size: size of minibatch\n",
    "    @param device: device the dataloaders are on\n",
    "    @return: tuple of two dataloaders, one for training and one for test\n",
    "\n",
    "    Dataloaders return on each call a list of k 3-tupels (token_ids, attention_mask, label);\n",
    "    with k = batch_size. All returned elements are torch.tensors on the requested device\n",
    "    \"\"\"\n",
    "\n",
    "    dataset = TensorDataset(token_ids, labels)\n",
    "    train_size = int(split_factor * len(dataset))\n",
    "    test_size = len(dataset) - train_size\n",
    "    train_dataset, test_dataset = random_split(dataset, [train_size, test_size])\n",
    "\n",
    "    train_dataloader = DataLoader(\n",
    "        train_dataset,\n",
    "        sampler=RandomSampler(train_dataset),\n",
    "        batch_size=batch_size\n",
    "    )\n",
    "\n",
    "    test_dataloader = DataLoader(\n",
    "        test_dataset,\n",
    "        sampler=SequentialSampler(test_dataset),\n",
    "        batch_size=batch_size\n",
    "    )\n",
    "\n",
    "    return train_dataloader, test_dataloader"
   ],
   "metadata": {
    "collapsed": false,
    "pycharm": {
     "name": "#%%\n"
    }
   }
  },
  {
   "cell_type": "code",
   "execution_count": null,
   "outputs": [],
   "source": [
    "def getModule_for_tokenizing(device: torch.device) -> BertModel:\n",
    "    module = BertModel.from_pretrained(\n",
    "        \"bert-base-uncased\",  # Use the 12-layer BERT module, with an uncased vocab.\n",
    "        output_hidden_states=True,  # return hidden-states.\n",
    "    )\n",
    "    module.eval()\n",
    "\n",
    "    if device == torch.device('cpu'):\n",
    "        module.cpu()\n",
    "    else:\n",
    "        module.cuda()\n",
    "    return module"
   ],
   "metadata": {
    "collapsed": false,
    "pycharm": {
     "name": "#%%\n"
    }
   }
  },
  {
   "cell_type": "code",
   "execution_count": null,
   "outputs": [],
   "source": [
    "def getModule(device: torch.device) -> nn.Module:\n",
    "    module = nn.Linear(768, 1)\n",
    "    if device == torch.device('cpu'):\n",
    "        module.cpu()\n",
    "    else:\n",
    "        module.cuda()\n",
    "    return module"
   ],
   "metadata": {
    "collapsed": false,
    "pycharm": {
     "name": "#%%\n"
    }
   }
  },
  {
   "cell_type": "code",
   "execution_count": null,
   "outputs": [],
   "source": [
    "def getTokenizer() -> BertTokenizer:\n",
    "    \"\"\"\n",
    "    @return: the Bert Tokenizer\n",
    "    \"\"\"\n",
    "    return BertTokenizer.from_pretrained('bert-base-uncased', do_lower_case=True)"
   ],
   "metadata": {
    "collapsed": false,
    "pycharm": {
     "name": "#%%\n"
    }
   }
  },
  {
   "cell_type": "code",
   "execution_count": null,
   "outputs": [],
   "source": [
    "def getOptimizer(module: nn.Module,\n",
    "                 lr: float,\n",
    "                 eps: float) -> torch.optim.Optimizer:\n",
    "    \"\"\"\n",
    "    @param module: a module\n",
    "    @param lr: learning rate\n",
    "    @param eps: stop criterion\n",
    "    @return: the Adam optimizer (any other choice is valid)\n",
    "    \"\"\"\n",
    "    return AdamW(module.parameters(), lr=lr, eps=eps)\n"
   ],
   "metadata": {
    "collapsed": false,
    "pycharm": {
     "name": "#%%\n"
    }
   }
  },
  {
   "cell_type": "code",
   "execution_count": null,
   "outputs": [],
   "source": [
    "# put constants in a dictionary\n",
    "cfg = {'seed': 2,\n",
    "   'batch_size': 16,\n",
    "   'n_sentences': 200,  # number of sentences to read\n",
    "   'max_length': 64,      # max length of sentence (guess or find out)\n",
    "   'split_factor': 0.8,   # share of training sentences\n",
    "   'cuda_desired': False,  # True if cuda desired\n",
    "   'lr': 3e-5,            # learning rate of optimizer\n",
    "   'eps': 1e-8,           # stop criterion of optimizer\n",
    "   'n_epochs' : None}     # number of epochs\n",
    "\n",
    "seed = cfg['seed']\n",
    "batch_size = cfg['batch_size']\n",
    "n_sentences = cfg['n_sentences']\n",
    "max_length = cfg['max_length']\n",
    "split_factor = cfg['split_factor']\n",
    "cuda_desired = cfg['cuda_desired']\n",
    "lr = cfg['lr']\n",
    "eps = cfg['eps']\n",
    "\n",
    "# seed randomizers\n",
    "random.seed(seed)\n",
    "torch.manual_seed(seed)\n",
    "torch.cuda.manual_seed_all(seed)"
   ],
   "metadata": {
    "collapsed": false,
    "pycharm": {
     "name": "#%%\n"
    }
   }
  },
  {
   "cell_type": "code",
   "execution_count": null,
   "outputs": [],
   "source": [
    "# extract at most n sentences and labels; n = n_sentences\n",
    "unzipped_file = './cola_public/raw/in_domain_train.tsv'\n",
    "col_sentence = 3  # index of column of sentences\n",
    "col_label = 1  # index of column of labels\n",
    "\n",
    "sentences, labels = readSentencesLabels(unzipped_file, n_sentences, col_sentence, col_label)\n",
    "\n",
    "n = len(sentences)\n",
    "k = len(list(filter(lambda x: x == 1, labels)))\n",
    "\n",
    "print(n, k)"
   ],
   "metadata": {
    "collapsed": false,
    "pycharm": {
     "name": "#%%\n"
    }
   }
  },
  {
   "cell_type": "code",
   "execution_count": null,
   "outputs": [],
   "source": [
    "# define the algorithm\n",
    "device = getDevice(cuda_desired)  # device depending on choice and availability of cuda\n",
    "module_for_tokenizing = getModule_for_tokenizing(device)  # BertModel.from_pretrained\n",
    "module = getModule(device)     # Linear(768, 1)\n",
    "tokenizer = getTokenizer()     # BERTtokenizer.from_pretrained; that's WordPiece\n",
    "optimizer = getOptimizer(module, lr, eps)\n",
    "\n",
    "# tokenize sentences to token ids and attention masks\n",
    "token_ids = tokenize(sentences, tokenizer, module_for_tokenizing, device, max_length)\n",
    "labels = torch.tensor(labels, dtype=torch.float32, device=device)\n",
    "\n",
    "# put token ids, attention masks and labels into a dataloader\n",
    "train_dataloader, test_dataloader = \\\n",
    "            getDataloader(token_ids, labels, split_factor, batch_size, device)"
   ],
   "metadata": {
    "collapsed": false,
    "pycharm": {
     "name": "#%%\n"
    }
   }
  },
  {
   "cell_type": "code",
   "execution_count": null,
   "outputs": [],
   "source": [
    "# build a learner and get going\n",
    "cfg['n_epochs'] = 4\n",
    "learner = Learner(module, optimizer, nn.BCEWithLogitsLoss(), device)\n",
    "protocol = learner.fit(train_dataloader, cfg['n_epochs'])\n",
    "print('\\nfitting finished')\n",
    "\n",
    "# make predictions on train and test data\n",
    "train_labels, train_predictions = learner.predict(train_dataloader)\n",
    "test_labels, test_predictions = learner.predict(test_dataloader)\n",
    "log_object = (cfg,\n",
    "              protocol,\n",
    "              train_labels, train_predictions,\n",
    "              test_labels, test_predictions)\n",
    "\n",
    "# save protocol\n",
    "log_file = 'log_000.pickle'\n",
    "with open(log_file, 'wb') as log:\n",
    "    pickle.dump(log_object, log)"
   ],
   "metadata": {
    "collapsed": false,
    "pycharm": {
     "name": "#%%\n"
    }
   }
  },
  {
   "cell_type": "code",
   "execution_count": 25,
   "outputs": [
    {
     "name": "stdout",
     "output_type": "stream",
     "text": [
      "\n",
      "elapsed time = 0.0974\n",
      "\n",
      "total number of train labels:         160\n",
      "total number of correct train labels: 106\n"
     ]
    },
    {
     "ename": "TypeError",
     "evalue": "'str' object is not callable",
     "output_type": "error",
     "traceback": [
      "\u001B[1;31m---------------------------------------------------------------------------\u001B[0m",
      "\u001B[1;31mTypeError\u001B[0m                                 Traceback (most recent call last)",
      "\u001B[1;32m<ipython-input-25-2fc254f52cfe>\u001B[0m in \u001B[0;36m<module>\u001B[1;34m\u001B[0m\n\u001B[0;32m     18\u001B[0m losses = [protocol[i][1] for i in range(len(protocol))\n\u001B[0;32m     19\u001B[0m           if type(protocol[i][1]) is float]\n\u001B[1;32m---> 20\u001B[1;33m \u001B[0mplot\u001B[0m\u001B[1;33m(\u001B[0m\u001B[0mlosses\u001B[0m\u001B[1;33m)\u001B[0m\u001B[1;33m\u001B[0m\u001B[1;33m\u001B[0m\u001B[0m\n\u001B[0m\u001B[0;32m     21\u001B[0m \u001B[1;33m\u001B[0m\u001B[0m\n",
      "\u001B[1;32m<ipython-input-4-46a5bcd84d79>\u001B[0m in \u001B[0;36mplot\u001B[1;34m(history)\u001B[0m\n\u001B[0;32m     10\u001B[0m     \u001B[0mplt\u001B[0m\u001B[1;33m.\u001B[0m\u001B[0mplot\u001B[0m\u001B[1;33m(\u001B[0m\u001B[0mhistory\u001B[0m\u001B[1;33m,\u001B[0m \u001B[0mlabel\u001B[0m\u001B[1;33m=\u001B[0m\u001B[1;34m'training loss'\u001B[0m\u001B[1;33m)\u001B[0m\u001B[1;33m\u001B[0m\u001B[1;33m\u001B[0m\u001B[0m\n\u001B[0;32m     11\u001B[0m     \u001B[0mplt\u001B[0m\u001B[1;33m.\u001B[0m\u001B[0mlegend\u001B[0m\u001B[1;33m(\u001B[0m\u001B[0mloc\u001B[0m\u001B[1;33m=\u001B[0m\u001B[1;34m'center left'\u001B[0m\u001B[1;33m,\u001B[0m \u001B[0mbbox_to_anchor\u001B[0m\u001B[1;33m=\u001B[0m\u001B[1;33m(\u001B[0m\u001B[1;36m1\u001B[0m\u001B[1;33m,\u001B[0m \u001B[1;36m0.5\u001B[0m\u001B[1;33m)\u001B[0m\u001B[1;33m)\u001B[0m\u001B[1;33m\u001B[0m\u001B[1;33m\u001B[0m\u001B[0m\n\u001B[1;32m---> 12\u001B[1;33m     \u001B[0mplt\u001B[0m\u001B[1;33m.\u001B[0m\u001B[0mylabel\u001B[0m\u001B[1;33m(\u001B[0m\u001B[1;34m'loss'\u001B[0m\u001B[1;33m)\u001B[0m\u001B[1;33m\u001B[0m\u001B[1;33m\u001B[0m\u001B[0m\n\u001B[0m\u001B[0;32m     13\u001B[0m     \u001B[0mplt\u001B[0m\u001B[1;33m.\u001B[0m\u001B[0mxlabel\u001B[0m\u001B[1;33m(\u001B[0m\u001B[1;34m'iterations'\u001B[0m\u001B[1;33m)\u001B[0m\u001B[1;33m\u001B[0m\u001B[1;33m\u001B[0m\u001B[0m\n\u001B[0;32m     14\u001B[0m \u001B[1;33m\u001B[0m\u001B[0m\n",
      "\u001B[1;31mTypeError\u001B[0m: 'str' object is not callable"
     ]
    },
    {
     "data": {
      "text/plain": "<Figure size 432x288 with 1 Axes>",
      "image/png": "[encoded data removed]"
     },
     "metadata": {
      "needs_background": "light"
     },
     "output_type": "display_data"
    }
   ],
   "source": [
    "# How did we do?\n",
    "\n",
    "log_file = 'log_000.pickle'\n",
    "with open(log_file, 'rb') as log:\n",
    "    log_object = pickle.load(log)\n",
    "\n",
    "cfg, protocol, \\\n",
    "train_labels, train_predictions, \\\n",
    "test_labels, test_predictions = log_object\n",
    "\n",
    "elapsed_time = protocol[-1][0] - protocol[0][0]\n",
    "print(f'\\nelapsed time = {elapsed_time:.4f}')\n",
    "\n",
    "# show the outcome\n",
    "print(f\"\\ntotal number of train labels:         {len(train_labels)}\\n\"\n",
    "  f\"total number of correct train labels: {len(list(filter(lambda x: x == 1, train_labels)))}\")\n",
    "\n",
    "losses = [protocol[i][1] for i in range(len(protocol))\n",
    "          if type(protocol[i][1]) is float]\n",
    "plot(losses)"
   ],
   "metadata": {
    "collapsed": false,
    "pycharm": {
     "name": "#%%\n"
    }
   }
  },
  {
   "cell_type": "code",
   "execution_count": null,
   "outputs": [],
   "source": [
    "cat_names = ['incorrect', 'correct']\n",
    "print('\\nresult on test data')\n",
    "showConfusionMatrix(train_labels, train_predictions, cat_names)\n",
    "print('\\nresult on test data')\n",
    "showConfusionMatrix(test_labels, test_predictions, cat_names)\n",
    "\n",
    "print('\\nresult on train data')\n",
    "showMetrics(train_labels, train_predictions)\n",
    "print('\\nresult on test data')\n",
    "showMetrics(test_labels, test_predictions)"
   ],
   "metadata": {
    "collapsed": false,
    "pycharm": {
     "name": "#%%\n"
    }
   }
  }
 ]
}