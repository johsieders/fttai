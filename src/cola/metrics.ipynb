{
 "cells": [
  {
   "cell_type": "code",
   "execution_count": 1,
   "metadata": {},
   "outputs": [],
   "source": [
    "# from https://mccormickml.com/2019/07/22/BERT-fine-tuning/#introduction\n",
    "# The Corpus of Linguistic Acceptability (CoLA)\n",
    "\n",
    "# Johannes Siedersleben\n",
    "# QAware GmbH, Munich\n",
    "# 10.2.2021"
   ]
  },
  {
   "cell_type": "code",
   "execution_count": 2,
   "metadata": {
    "pycharm": {
     "name": "#%%\n"
    }
   },
   "outputs": [],
   "source": [
    "# Python imports\n",
    "\n",
    "from time import perf_counter\n",
    "import pickle\n",
    "\n",
    "# neural metworks support: torch, sklearn metrics\n",
    "import torch\n",
    "from torch import Tensor\n",
    "from sklearn.metrics import accuracy_score, precision_score, recall_score, f1_score, confusion_matrix\n",
    "\n",
    "# utilities for display\n",
    "import seaborn as sns\n",
    "import matplotlib.pyplot as plt"
   ]
  },
  {
   "cell_type": "code",
   "execution_count": 3,
   "metadata": {
    "pycharm": {
     "name": "#%%\n"
    }
   },
   "outputs": [],
   "source": [
    "def showProgress(protocol):\n",
    "    plt.plot(protocol[1], label='training loss')\n",
    "    plt.legend(loc='center left', bbox_to_anchor=(1, 0.5))\n",
    "    plt.ylabel('loss')\n",
    "    plt.xlabel('iterations')\n",
    "    plt.show()"
   ]
  },
  {
   "cell_type": "code",
   "execution_count": 4,
   "metadata": {
    "pycharm": {
     "name": "#%%\n"
    }
   },
   "outputs": [],
   "source": [
    "def showConfusionMatrix(labels, predictions: Tensor, names: list) -> None:\n",
    "    \"\"\"\n",
    "    @param labels: tensor of labels\n",
    "    @param predictions: tensor of prediction\n",
    "    @param names: names of categories, e.g. ['correct', 'incorrect']\n",
    "    @return: None\n",
    "    The confusion matrix is a K x K matrix with K = number of categories\n",
    "    \"\"\"\n",
    "\n",
    "    cm = confusion_matrix(labels, predictions)\n",
    "    vmax = cm.max()   # number of categories\n",
    "    sns.heatmap(cm.T, square=True, annot=True, fmt='d', cbar=True,\n",
    "                xticklabels=names, yticklabels=names, vmin=0, vmax=vmax, cmap=\"YlGnBu\")\n",
    "    plt.xlabel = ('true label')\n",
    "    plt.ylabel = ('predicted label')\n",
    "    plt.show()"
   ]
  },
  {
   "cell_type": "markdown",
   "metadata": {
    "pycharm": {
     "name": "#%% md\n"
    }
   },
   "source": [
    "## Playing with Confusion"
   ]
  },
  {
   "cell_type": "code",
   "execution_count": 5,
   "metadata": {
    "pycharm": {
     "name": "#%%\n"
    }
   },
   "outputs": [
    {
     "data": {
      "image/png": "[encoded data removed]",
      "text/plain": [
       "<Figure size 432x288 with 2 Axes>"
      ]
     },
     "metadata": {
      "needs_background": "light"
     },
     "output_type": "display_data"
    },
    {
     "data": {
      "image/png": "[encoded data removed]",
      "text/plain": [
       "<Figure size 432x288 with 2 Axes>"
      ]
     },
     "metadata": {
      "needs_background": "light"
     },
     "output_type": "display_data"
    },
    {
     "data": {
      "image/png": "[encoded data removed]",
      "text/plain": [
       "<Figure size 432x288 with 2 Axes>"
      ]
     },
     "metadata": {
      "needs_background": "light"
     },
     "output_type": "display_data"
    }
   ],
   "source": [
    "labels = torch.randint(5, (100, 1))  # 100 random ints in [0, 5)\n",
    "cat_names = ['a', 'b', 'c', 'd', 'e']\n",
    "no_errors = labels.clone()\n",
    "\n",
    "some_errors = no_errors.clone()\n",
    "some_errors[range(0, 100, 10)] = (some_errors[range(0, 100, 10)] + 1) % 5\n",
    "\n",
    "all_wrong = no_errors.clone()\n",
    "all_wrong[:] = (all_wrong[:] + 2) % 5\n",
    "\n",
    "showConfusionMatrix(labels, no_errors, cat_names)\n",
    "showConfusionMatrix(labels, some_errors, cat_names)\n",
    "showConfusionMatrix(labels, all_wrong, cat_names)"
   ]
  },
  {
   "cell_type": "markdown",
   "metadata": {
    "pycharm": {
     "name": "#%% md\n"
    }
   },
   "source": [
    "See https://scikit-learn.org/stable/modules/classes.html#sklearn-metrics-metrics\n",
    "for a complete library and an exhaustive documentation."
   ]
  },
  {
   "cell_type": "code",
   "execution_count": 6,
   "metadata": {
    "pycharm": {
     "name": "#%%\n"
    }
   },
   "outputs": [],
   "source": [
    "def showMetrics(labels, predictions: Tensor) -> None:\n",
    "    \"\"\"\"\n",
    "    @param labels: tensor of labels\n",
    "    @param predictions: tensor of prediction\n",
    "    @return: None\n",
    "    This functions prints accuracy, precision, recall and f1\n",
    "    \"\"\"\n",
    "    accuracy = accuracy_score(labels, predictions)\n",
    "    precision = precision_score(labels, predictions)\n",
    "    recall = recall_score(labels, predictions)\n",
    "    f1 = f1_score(labels, predictions)\n",
    "\n",
    "    print(f'\\naccuracy  = {accuracy:.3f}\\n'\n",
    "          f'precision = {precision:.3f}\\n'\n",
    "          f'recall    = {recall:.3f}\\n'\n",
    "          f'f1        = {f1:.3f}')"
   ]
  },
  {
   "cell_type": "markdown",
   "metadata": {
    "pycharm": {
     "name": "#%% md\n"
    }
   },
   "source": [
    "## Playing with Metrics"
   ]
  },
  {
   "cell_type": "code",
   "execution_count": 7,
   "metadata": {
    "pycharm": {
     "name": "#%%\n"
    }
   },
   "outputs": [
    {
     "name": "stdout",
     "output_type": "stream",
     "text": [
      "\n",
      "accuracy  = 1.000\n",
      "precision = 1.000\n",
      "recall    = 1.000\n",
      "f1        = 1.000\n",
      "\n",
      "accuracy  = 0.900\n",
      "precision = 0.891\n",
      "recall    = 0.925\n",
      "f1        = 0.907\n",
      "\n",
      "accuracy  = 0.000\n",
      "precision = 0.000\n",
      "recall    = 0.000\n",
      "f1        = 0.000\n"
     ]
    }
   ],
   "source": [
    "labels = torch.randint(2, (100, 1))  # 100 random ints in [0, 2)\n",
    "no_errors = labels.clone()\n",
    "\n",
    "some_errors = no_errors.clone()\n",
    "some_errors[range(0, 100, 10)] = 1 - some_errors[range(0, 100, 10)]\n",
    "\n",
    "all_wrong = no_errors.clone()\n",
    "all_wrong[:] = 1 - all_wrong[:]\n",
    "\n",
    "showMetrics(labels, no_errors)\n",
    "showMetrics(labels, some_errors)\n",
    "showMetrics(labels, all_wrong)"
   ]
  }
 ],
 "metadata": {
  "kernelspec": {
   "display_name": "Python 3",
   "language": "python",
   "name": "python3"
  },
  "language_info": {
   "codemirror_mode": {
    "name": "ipython",
    "version": 3
   },
   "file_extension": ".py",
   "mimetype": "text/x-python",
   "name": "python",
   "nbconvert_exporter": "python",
   "pygments_lexer": "ipython3",
   "version": "3.8.5"
  }
 },
 "nbformat": 4,
 "nbformat_minor": 1
}