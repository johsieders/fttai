{
 "cells": [
  {
   "cell_type": "code",
   "execution_count": 1,
   "metadata": {},
   "outputs": [],
   "source": [
    "# from https://mccormickml.com/2019/07/22/BERT-fine-tuning/#introduction\n",
    "# The Corpus of Linguistic Acceptability (CoLA)\n",
    "\n",
    "# Johannes Siedersleben\n",
    "# QAware GmbH, Munich\n",
    "# 10.2.2021"
   ]
  },
  {
   "cell_type": "code",
   "execution_count": 2,
   "metadata": {
    "pycharm": {
     "name": "#%%\n"
    }
   },
   "outputs": [],
   "source": [
    "# Python imports\n",
    "\n",
    "from time import perf_counter\n",
    "import pickle\n",
    "\n",
    "# neural metworks support: torch, sklearn metrics\n",
    "import torch\n",
    "from torch import Tensor\n",
    "from sklearn.metrics import accuracy_score, precision_score, recall_score, f1_score, confusion_matrix\n",
    "\n",
    "# utilities for display\n",
    "import seaborn as sns\n",
    "import matplotlib.pyplot as plt"
   ]
  },
  {
   "cell_type": "code",
   "execution_count": 3,
   "metadata": {
    "pycharm": {
     "name": "#%%\n"
    }
   },
   "outputs": [],
   "source": [
    "def showProgress(protocol):\n",
    "    plt.plot(protocol[1], label='training loss')\n",
    "    plt.legend(loc='center left', bbox_to_anchor=(1, 0.5))\n",
    "    plt.ylabel('loss')\n",
    "    plt.xlabel('iterations')\n",
    "    plt.show()"
   ]
  },
  {
   "cell_type": "code",
   "execution_count": 4,
   "metadata": {
    "pycharm": {
     "name": "#%%\n"
    }
   },
   "outputs": [],
   "source": [
    "def showConfusionMatrix(labels, predictions: Tensor, names: list) -> None:\n",
    "    \"\"\"\n",
    "    @param labels: tensor of labels\n",
    "    @param predictions: tensor of prediction\n",
    "    @param names: names of categories, e.g. ['correct', 'incorrect']\n",
    "    @return: None\n",
    "    The confusion matrix is a K x K matrix with K = number of categories\n",
    "    \"\"\"\n",
    "\n",
    "    cm = confusion_matrix(labels, predictions)\n",
    "    vmax = cm.max()   # number of categories\n",
    "    sns.heatmap(cm.T, square=True, annot=True, fmt='d', cbar=True,\n",
    "                xticklabels=names, yticklabels=names, vmin=0, vmax=vmax, cmap=\"YlGnBu\")\n",
    "    plt.xlabel = ('true label')\n",
    "    plt.ylabel = ('predicted label')\n",
    "    plt.show()"
   ]
  },
  {
   "cell_type": "markdown",
   "metadata": {
    "pycharm": {
     "name": "#%% md\n"
    }
   },
   "source": [
    "## Playing with Confusion"
   ]
  },
  {
   "cell_type": "code",
   "execution_count": 5,
   "metadata": {
    "pycharm": {
     "name": "#%%\n"
    }
   },
   "outputs": [
    {
     "data": {
      "image/png": "[encoded data removed]",
      "text/plain": [
       "<Figure size 432x288 with 2 Axes>"
      ]
     },
     "metadata": {
      "needs_background": "light"
     },
     "output_type": "display_data"
    },
    {
     "data": {
      "image/png": "[encoded data removed]",
      "text/plain": [
       "<Figure size 432x288 with 2 Axes>"
      ]
     },
     "metadata": {
      "needs_background": "light"
     },
     "output_type": "display_data"
    },
    {
     "data": {
      "image/png": "[encoded data removed]",
      "text/plain": [
       "<Figure size 432x288 with 2 Axes>"
      ]
     },
     "metadata": {
      "needs_background": "light"
     },
     "output_type": "display_data"
    }
   ],
   "source": [
    "labels = torch.randint(5, (100, 1))  # 100 random ints in [0, 5)\n",
    "cat_names = ['a', 'b', 'c', 'd', 'e']\n",
    "no_errors = labels.clone()\n",
    "\n",
    "some_errors = no_errors.clone()\n",
    "some_errors[range(0, 100, 10)] = (some_errors[range(0, 100, 10)] + 1) % 5\n",
    "\n",
    "all_wrong = no_errors.clone()\n",
    "all_wrong[:] = (all_wrong[:] + 2) % 5\n",
    "\n",
    "showConfusionMatrix(labels, no_errors, cat_names)\n",
    "showConfusionMatrix(labels, some_errors, cat_names)\n",
    "showConfusionMatrix(labels, all_wrong, cat_names)"
   ]
  },
  {
   "cell_type": "markdown",
   "metadata": {
    "pycharm": {
     "name": "#%% md\n"
    }
   },
   "source": [
    "See https://scikit-learn.org/stable/modules/classes.html#sklearn-metrics-metrics\n",
    "for a complete library and an exhaustive documentation."
   ]
  },
  {
   "cell_type": "code",
   "execution_count": 6,
   "metadata": {
    "pycharm": {
     "name": "#%%\n"
    }
   },
   "outputs": [],
   "source": [
    "def showMetrics(labels, predictions: Tensor) -> None:\n",
    "    \"\"\"\"\n",
    "    @param labels: tensor of labels\n",
    "    @param predictions: tensor of prediction\n",
    "    @return: None\n",
    "    This functions prints accuracy, precision, recall and f1\n",
    "    \"\"\"\n",
    "    accuracy = accuracy_score(labels, predictions)\n",
    "    precision = precision_score(labels, predictions)\n",
    "    recall = recall_score(labels, predictions)\n",
    "    f1 = f1_score(labels, predictions)\n",
    "\n",
    "    print(f'\\naccuracy  = {accuracy:.3f}\\n'\n",
    "          f'precision = {precision:.3f}\\n'\n",
    "          f'recall    = {recall:.3f}\\n'\n",
    "          f'f1        = {f1:.3f}')"
   ]
  },
  {
   "cell_type": "markdown",
   "metadata": {
    "pycharm": {
     "name": "#%% md\n"
    }
   },
   "source": [
    "## Playing with Metrics"
   ]
  },
  {
   "cell_type": "code",
   "execution_count": 7,
   "metadata": {
    "pycharm": {
     "name": "#%%\n"
    }
   },
   "outputs": [
    {
     "name": "stdout",
     "output_type": "stream",
     "text": [
      "\n",
      "accuracy  = 1.000\n",
      "precision = 1.000\n",
      "recall    = 1.000\n",
      "f1        = 1.000\n",
      "\n",
      "accuracy  = 0.900\n",
      "precision = 0.891\n",
      "recall    = 0.925\n",
      "f1        = 0.907\n",
      "\n",
      "accuracy  = 0.000\n",
      "precision = 0.000\n",
      "recall    = 0.000\n",
      "f1        = 0.000\n"
     ]
    }
   ],
   "source": [
    "labels = torch.randint(2, (100, 1))  # 100 random ints in [0, 2)\n",
    "no_errors = labels.clone()\n",
    "\n",
    "some_errors = no_errors.clone()\n",
    "some_errors[range(0, 100, 10)] = 1 - some_errors[range(0, 100, 10)]\n",
    "\n",
    "all_wrong = no_errors.clone()\n",
    "all_wrong[:] = 1 - all_wrong[:]\n",
    "\n",
    "showMetrics(labels, no_errors)\n",
    "showMetrics(labels, some_errors)\n",
    "showMetrics(labels, all_wrong)"
   ]
  },
  {
   "cell_type": "markdown",
   "metadata": {
    "pycharm": {
     "name": "#%% md\n"
    }
   },
   "source": [
    "## How did BERT do?"
   ]
  },
  {
   "cell_type": "code",
   "execution_count": 8,
   "metadata": {
    "pycharm": {
     "name": "#%%\n"
    }
   },
   "outputs": [
    {
     "name": "stdout",
     "output_type": "stream",
     "text": [
      "\n",
      "total number of labels:         80\n",
      "total number of correct labels: 62\n",
      "\n",
      "\n",
      "timestamp\tinfo\n",
      "\n",
      "0.000000\tepoch 0\n",
      "0.757792\t1.1306153535842896\n",
      "3.523733\t0.8303014636039734\n",
      "6.152942\t0.6700848340988159\n",
      "8.693336\t0.6036989092826843\n",
      "11.325905\t0.5025121569633484\n",
      "13.556174\t0.5427989959716797\n",
      "15.583446\t0.6387192606925964\n",
      "17.598965\t0.555924117565155\n",
      "19.557359\t0.5963043570518494\n",
      "21.631215\t0.6865864992141724\n",
      "23.189171\tepoch 1\n",
      "23.745120\t0.905249834060669\n",
      "25.750741\t0.597873866558075\n",
      "27.857765\t0.43510544300079346\n",
      "29.898363\t0.7558364868164062\n",
      "31.886351\t0.25520145893096924\n",
      "33.930480\t0.2938888967037201\n",
      "36.026314\t0.5315675139427185\n",
      "38.225020\t0.6027042865753174\n",
      "40.307261\t0.5415557026863098\n",
      "42.480442\t0.5286444425582886\n",
      "44.196602\tepoch 2\n",
      "44.855798\t0.7201305031776428\n",
      "46.917102\t0.25827470421791077\n",
      "48.857375\t0.5513792037963867\n",
      "50.885776\t0.2510875463485718\n",
      "53.097446\t0.5198581218719482\n",
      "55.072182\t0.5315513610839844\n",
      "57.042145\t0.3856835961341858\n",
      "59.102856\t0.7132172584533691\n",
      "61.007822\t0.6270365118980408\n",
      "62.977316\t0.6658263802528381\n",
      "64.419868\tepoch 3\n",
      "64.942714\t0.6166869401931763\n",
      "66.927989\t0.39452263712882996\n",
      "69.067651\t0.6380789279937744\n",
      "71.001431\t0.5702953934669495\n",
      "73.098621\t0.259397953748703\n",
      "75.219037\t0.5839530229568481\n",
      "77.162135\t0.561384379863739\n",
      "79.109681\t0.42072874307632446\n",
      "81.175331\t0.6586456298828125\n",
      "83.224531\t0.4143935441970825\n"
     ]
    }
   ],
   "source": [
    "log_file = 'log_000.pickle'\n",
    "with open(log_file, 'rb') as log:\n",
    "    log_object = pickle.load(log)\n",
    "\n",
    "cfg, protocol, \\\n",
    "train_labels, train_predictions, \\\n",
    "test_labels, test_predictions = log_object\n",
    "\n",
    "# show the outcome\n",
    "print(f\"\\ntotal number of labels:         {len(train_labels)}\\n\"\n",
    "      f\"total number of correct labels: {len(list(filter(lambda x: x == 1, train_labels)))}\")\n",
    "\n",
    "starttime = protocol[0][0]\n",
    "print(f'\\n\\ntimestamp\\tinfo\\n')\n",
    "for timestamp, info in protocol[:50]:\n",
    "    print(f'{timestamp - starttime:.6f}\\t{info}')"
   ]
  },
  {
   "cell_type": "code",
   "execution_count": 9,
   "metadata": {
    "pycharm": {
     "name": "#%%\n"
    }
   },
   "outputs": [
    {
     "data": {
      "image/png": "[encoded data removed]",
      "text/plain": [
       "<Figure size 432x288 with 2 Axes>"
      ]
     },
     "metadata": {
      "needs_background": "light"
     },
     "output_type": "display_data"
    },
    {
     "data": {
      "image/png": "[encoded data removed]",
      "text/plain": [
       "<Figure size 432x288 with 2 Axes>"
      ]
     },
     "metadata": {
      "needs_background": "light"
     },
     "output_type": "display_data"
    }
   ],
   "source": [
    "cat_names = ['incorrect', 'correct']\n",
    "showConfusionMatrix(train_labels, train_predictions, cat_names)\n",
    "showConfusionMatrix(test_labels, test_predictions, cat_names)"
   ]
  },
  {
   "cell_type": "code",
   "execution_count": 10,
   "metadata": {
    "pycharm": {
     "name": "#%%\n"
    }
   },
   "outputs": [
    {
     "name": "stdout",
     "output_type": "stream",
     "text": [
      "\n",
      "accuracy  = 0.775\n",
      "precision = 0.775\n",
      "recall    = 1.000\n",
      "f1        = 0.873\n",
      "\n",
      "accuracy  = 0.750\n",
      "precision = 0.750\n",
      "recall    = 1.000\n",
      "f1        = 0.857\n"
     ]
    }
   ],
   "source": [
    "showMetrics(train_labels, train_predictions)\n",
    "showMetrics(test_labels, test_predictions)"
   ]
  }
 ],
 "metadata": {
  "kernelspec": {
   "display_name": "Python 3",
   "language": "python",
   "name": "python3"
  },
  "language_info": {
   "codemirror_mode": {
    "name": "ipython",
    "version": 3
   },
   "file_extension": ".py",
   "mimetype": "text/x-python",
   "name": "python",
   "nbconvert_exporter": "python",
   "pygments_lexer": "ipython3",
   "version": "3.8.5"
  }
 },
 "nbformat": 4,
 "nbformat_minor": 1
}