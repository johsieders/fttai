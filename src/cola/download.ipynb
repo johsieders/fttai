{
 "nbformat": 4,
 "nbformat_minor": 0,
 "metadata": {
  "kernelspec": {
   "display_name": "Python 3",
   "language": "python",
   "name": "python3"
  },
  "language_info": {
   "codemirror_mode": {
    "name": "ipython",
    "version": 3
   },
   "file_extension": ".py",
   "mimetype": "text/x-python",
   "name": "python",
   "nbconvert_exporter": "python",
   "pygments_lexer": "ipython3",
   "version": "3.8.5"
  },
  "colab": {
   "name": "download.ipynb",
   "provenance": [],
   "include_colab_link": true
  }
 },
 "cells": [
  {
   "cell_type": "markdown",
   "metadata": {
    "id": "view-in-github",
    "colab_type": "text"
   },
   "source": [
    "<a href=\"https://colab.research.google.com/github/johsieders/fttai/blob/main/src/cola/download.ipynb\" target=\"_parent\"><img src=\"https://colab.research.google.com/assets/colab-badge.svg\" alt=\"Open In Colab\"/></a>"
   ]
  },
  {
   "cell_type": "code",
   "metadata": {
    "id": "auXdaJ5ddv1u"
   },
   "source": [
    "# from https://mccormickml.com/2019/07/22/BERT-fine-tuning/#introduction\n",
    "# The Corpus of Linguistic Acceptability (CoLA)\n",
    "# Download and unzip original CoLA files\n",
    "\n",
    "# Johannes Siedersleben\n",
    "# QAware GmbH, Munich\n",
    "# 10.2.2021"
   ],
   "execution_count": null,
   "outputs": []
  },
  {
   "cell_type": "code",
   "metadata": {
    "pycharm": {
     "name": "#%%\n"
    },
    "id": "klNjYPC3dv1z"
   },
   "source": [
    "# uncomment this if import fails\n",
    "!pip install wget\n",
    "\n",
    "import os\n",
    "import zipfile\n",
    "import wget"
   ],
   "execution_count": null,
   "outputs": []
  },
  {
   "cell_type": "code",
   "metadata": {
    "pycharm": {
     "name": "#%%\n"
    },
    "colab": {
     "base_uri": "https://localhost:8080/"
    },
    "id": "y6KjRljbdv10",
    "collapsed": true,
    "outputId": "666ee8f5-8e65-4aec-e4d8-4f754d17ac4a"
   },
   "source": [
    "# download and unzip raw data\n",
    "url = 'https://nyu-mll.github.io/CoLA/cola_public_1.1.zip'\n",
    "\n",
    "zipped_file = 'cola_public_1.1.zip'\n",
    "zipped_dir = './cola_public_1.1/'\n",
    "unzipped_file = '/cola_public/raw/in_domain_train.tsv'\n",
    "\n",
    "if not os.path.exists(zipped_file):\n",
    "    wget.download(url, zipped_file)\n",
    "print('download successful')\n",
    "\n",
    "if not os.path.exists(zipped_dir):\n",
    "    zip = zipfile.ZipFile(zipped_file)\n",
    "    zip.extractall()\n",
    "\n",
    "print('unzipped file now at ' + unzipped_file)"
   ],
   "execution_count": 8,
   "outputs": [
    {
     "output_type": "stream",
     "text": [
      "Drive already mounted at /content/drive; to attempt to forcibly remount, call drive.mount(\"/content/drive\", force_remount=True).\n",
      "download successful\n",
      "unzipped file now at /content/drive/MyDrive/cola_public/raw/in_domain_train.tsv\n"
     ],
     "name": "stdout"
    }
   ]
  }
 ]
}