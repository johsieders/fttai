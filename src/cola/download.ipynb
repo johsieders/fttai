{
 "nbformat": 4,
 "nbformat_minor": 0,
 "metadata": {
  "kernelspec": {
   "display_name": "Python 3",
   "language": "python",
   "name": "python3"
  },
  "language_info": {
   "codemirror_mode": {
    "name": "ipython",
    "version": 3
   },
   "file_extension": ".py",
   "mimetype": "text/x-python",
   "name": "python",
   "nbconvert_exporter": "python",
   "pygments_lexer": "ipython3",
   "version": "3.8.5"
  },
  "colab": {
   "name": "download.ipynb",
   "provenance": []
  }
 },
 "cells": [
  {
   "cell_type": "code",
   "metadata": {
    "id": "auXdaJ5ddv1u",
    "executionInfo": {
     "status": "ok",
     "timestamp": 1613053282117,
     "user_tz": -60,
     "elapsed": 1366,
     "user": {
      "displayName": "Johannes Siedersleben",
      "photoUrl": "",
      "userId": "18160953325954532806"
     }
    }
   },
   "source": [
    "# from https://mccormickml.com/2019/07/22/BERT-fine-tuning/#introduction\n",
    "# The Corpus of Linguistic Acceptability (CoLA)\n",
    "# Download and unzip original CoLA files\n",
    "\n",
    "# Johannes Siedersleben\n",
    "# QAware GmbH, Munich\n",
    "# 10.2.2021"
   ],
   "execution_count": 1,
   "outputs": []
  },
  {
   "cell_type": "code",
   "metadata": {
    "pycharm": {
     "name": "#%%\n"
    },
    "colab": {
     "base_uri": "https://localhost:8080/"
    },
    "id": "klNjYPC3dv1z",
    "executionInfo": {
     "status": "ok",
     "timestamp": 1613053286621,
     "user_tz": -60,
     "elapsed": 5866,
     "user": {
      "displayName": "Johannes Siedersleben",
      "photoUrl": "",
      "userId": "18160953325954532806"
     }
    },
    "outputId": "8d2e9336-5b57-4005-dfe6-bc434e69c64f"
   },
   "source": [
    "# uncomment this if import fails\n",
    "!pip install wget\n",
    "\n",
    "import os\n",
    "import zipfile\n",
    "import wget"
   ],
   "execution_count": 2,
   "outputs": [
    {
     "output_type": "stream",
     "text": [
      "Collecting wget\n",
      "  Downloading https://files.pythonhosted.org/packages/47/6a/62e288da7bcda82b935ff0c6cfe542970f04e29c756b0e147251b2fb251f/wget-3.2.zip\n",
      "Building wheels for collected packages: wget\n",
      "  Building wheel for wget (setup.py) ... \u001B[?25l\u001B[?25hdone\n",
      "  Created wheel for wget: filename=wget-3.2-cp36-none-any.whl size=9682 sha256=a61133c999e2c46cb6da080db0ceda37ec49f2599c90275ee8c29a5fb5f16f1d\n",
      "  Stored in directory: /root/.cache/pip/wheels/40/15/30/7d8f7cea2902b4db79e3fea550d7d7b85ecb27ef992b618f3f\n",
      "Successfully built wget\n",
      "Installing collected packages: wget\n",
      "Successfully installed wget-3.2\n"
     ],
     "name": "stdout"
    }
   ]
  },
  {
   "cell_type": "code",
   "metadata": {
    "pycharm": {
     "name": "#%%\n"
    },
    "colab": {
     "base_uri": "https://localhost:8080/"
    },
    "id": "y6KjRljbdv10",
    "executionInfo": {
     "status": "ok",
     "timestamp": 1613053287152,
     "user_tz": -60,
     "elapsed": 6391,
     "user": {
      "displayName": "Johannes Siedersleben",
      "photoUrl": "",
      "userId": "18160953325954532806"
     }
    },
    "outputId": "3b3cea6d-50a7-44e3-c8c7-a1a932bf54c2"
   },
   "source": [
    "# download and unzip raw data\n",
    "url = 'https://nyu-mll.github.io/CoLA/cola_public_1.1.zip'\n",
    "zipped_file = 'cola_public_1.1.zip'\n",
    "zipped_dir = './cola_public_1.1/'\n",
    "unzipped_file = './cola_public/raw/in_domain_train.tsv'\n",
    "\n",
    "if not os.path.exists(zipped_file):\n",
    "    wget.download(url, zipped_file)\n",
    "print('download successful')\n",
    "\n",
    "if not os.path.exists(zipped_dir):\n",
    "    zip = zipfile.ZipFile(zipped_file)\n",
    "    zip.extractall()\n",
    "\n",
    "print('unzipped file now at ' + unzipped_file)"
   ],
   "execution_count": 3,
   "outputs": [
    {
     "output_type": "stream",
     "text": [
      "download successful\n",
      "unzipped file now at ./cola_public/raw/in_domain_train.tsv\n"
     ],
     "name": "stdout"
    }
   ]
  }
 ]
}