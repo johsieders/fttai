{
 "cells": [
  {
   "cell_type": "code",
   "execution_count": null,
   "metadata": {
    "collapsed": true
   },
   "outputs": [],
   "source": [
    "import torch\n",
    "from scipy.spatial.distance import cosine\n",
    "from torch import Tensor\n",
    "from transformers import BertTokenizer, BertModel"
   ]
  },
  {
   "cell_type": "code",
   "execution_count": null,
   "outputs": [],
   "source": [
    "def tokenize(text: str, tokenizer: BertTokenizer, max_length: int) -> tuple:\n",
    "    dict = tokenizer(text,\n",
    "                     add_special_tokens=True,  # Add '[CLS]' and '[SEP]'\n",
    "                     truncation=True,\n",
    "                     max_length=max_length,\n",
    "                     pad_to_max_length=True,\n",
    "                     return_attention_mask=True\n",
    "                     )\n",
    "\n",
    "    token_ids = dict['input_ids']\n",
    "    attention_mask = dict['attention_mask']\n",
    "    return token_ids, attention_mask"
   ],
   "metadata": {
    "collapsed": false,
    "pycharm": {
     "name": "#%%\n"
    }
   }
  },
  {
   "cell_type": "code",
   "execution_count": null,
   "outputs": [],
   "source": [
    "def tokenize1(text: str, tokenizer: BertTokenizer, max_length: int) -> tuple:\n",
    "    text = \"[CLS] \" + text + \" [SEP]\"\n",
    "    tokens = tokenizer.tokenize(text)\n",
    "    token_ids = tokenizer.convert_tokens_to_ids(tokens)\n",
    "    attention_mask = [1] * len(token_ids) + [0] * (max_length - len(token_ids))\n",
    "    token_ids += [0] * (max_length - len(token_ids))\n",
    "    return tokens, token_ids, attention_mask"
   ],
   "metadata": {
    "collapsed": false,
    "pycharm": {
     "name": "#%%\n"
    }
   }
  },
  {
   "cell_type": "code",
   "execution_count": null,
   "outputs": [],
   "source": [
    "def vectorize(token_ids: Tensor, attn_mask: Tensor, model: BertModel) -> Tensor:\n",
    "    with torch.no_grad():\n",
    "        output = model(token_ids, attn_mask)\n",
    "\n",
    "    hidden_states = output[2]\n",
    "    token_vectors = hidden_states[-2][0]  # shape = (#tokens, 768)\n",
    "    # result[i] = average token_vecs[i, j], j = 0 .. 767\n",
    "    vector = torch.mean(token_vectors, dim=0)  # shape = (768)\n",
    "    return vector"
   ],
   "metadata": {
    "collapsed": false,
    "pycharm": {
     "name": "#%%\n"
    }
   }
  },
  {
   "cell_type": "code",
   "execution_count": null,
   "outputs": [],
   "source": [
    "def token_vectorize(text: str, tokenizer: BertTokenizer, model: BertModel, max_length: int) -> Tensor:\n",
    "    token_ids, attn_mask = tokenize(text, tokenizer, max_length)\n",
    "    token_ids = torch.tensor(token_ids).view((1, -1))\n",
    "    attn_mask = torch.tensor(attn_mask).view((1, -1))\n",
    "    vector = vectorize(token_ids, attn_mask, model)\n",
    "    return vector"
   ],
   "metadata": {
    "collapsed": false,
    "pycharm": {
     "name": "#%%\n"
    }
   }
  },
  {
   "cell_type": "code",
   "execution_count": null,
   "outputs": [],
   "source": [
    "max_length = 24\n",
    "\n",
    "tokenizer = BertTokenizer.from_pretrained('bert-base-uncased')\n",
    "model = BertModel.from_pretrained('bert-base-uncased', output_hidden_states=True)\n",
    "model.eval()\n",
    "\n",
    "texts = [\"Here is the sentence I want embeddings for.\",\n",
    "         \"This is the sentence I want no embeddings for.\",\n",
    "         \"After stealing money from the bank vault, the bank robber was seen fishing on the Mississippi river \"\n",
    "         \"bank.\",\n",
    "         \"The bank robber was seen fishing on the Mississippi river bank after stealing money from the bank vault\"]"
   ],
   "metadata": {
    "collapsed": false,
    "pycharm": {
     "name": "#%%\n"
    }
   }
  },
  {
   "cell_type": "code",
   "execution_count": null,
   "outputs": [],
   "source": [
    "for t in texts:\n",
    "    v = token_vectorize(t, tokenizer, model, max_length)\n",
    "\n",
    "    token_ids, attn_mask = tokenize(t, tokenizer, max_length)\n",
    "    tokens1, token_ids1, attn_mask1 = tokenize1(t, tokenizer, max_length)\n",
    "    print('\\n', t, '\\n', tokens1)\n",
    "    assert (token_ids == token_ids1)\n",
    "    assert (attn_mask == attn_mask1)\n",
    "\n",
    "    token_ids = torch.tensor(token_ids).view((1, -1))\n",
    "    attn_mask = torch.tensor(attn_mask).view((1, -1))\n",
    "    w = vectorize(token_ids, attn_mask, model)\n",
    "    assert (torch.equal(v, w))"
   ],
   "metadata": {
    "collapsed": false,
    "pycharm": {
     "name": "#%%\n"
    }
   }
  },
  {
   "cell_type": "code",
   "execution_count": null,
   "outputs": [],
   "source": [
    "for s in texts:\n",
    "    v = token_vectorize(s, tokenizer, model, max_length)\n",
    "    for t in texts:\n",
    "        w = token_vectorize(t, tokenizer, model, max_length)\n",
    "        diff = cosine(v, w)\n",
    "        print('\\n', s)\n",
    "        print(t)\n",
    "        print(diff)"
   ],
   "metadata": {
    "collapsed": false,
    "pycharm": {
     "name": "#%%\n"
    }
   }
  }
 ],
 "metadata": {
  "kernelspec": {
   "display_name": "Python 3",
   "language": "python",
   "name": "python3"
  },
  "language_info": {
   "codemirror_mode": {
    "name": "ipython",
    "version": 2
   },
   "file_extension": ".py",
   "mimetype": "text/x-python",
   "name": "python",
   "nbconvert_exporter": "python",
   "pygments_lexer": "ipython2",
   "version": "2.7.6"
  }
 },
 "nbformat": 4,
 "nbformat_minor": 0
}